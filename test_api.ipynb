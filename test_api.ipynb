{
 "cells": [
  {
   "cell_type": "code",
   "execution_count": 1,
   "id": "318e58a7",
   "metadata": {},
   "outputs": [],
   "source": [
    "import requests\n",
    "import os\n",
    "import argparse"
   ]
  },
  {
   "cell_type": "code",
   "execution_count": 2,
   "id": "fe7f6e5b",
   "metadata": {},
   "outputs": [],
   "source": [
    "def upload(filename):\n",
    "    try:\n",
    "        with open(filename, \"rb\") as f:\n",
    "            files = {\"file\": (filename, f, \"text/plain\")}\n",
    "            response = requests.post(\"http://192.168.1.100:8000/upload\", files=files)\n",
    "\n",
    "        print(response.json())\n",
    "        print(f\"{filename} uploaded to cloud.\")\n",
    "    except FileNotFoundError:\n",
    "        print({\"status\": \"File not found on client\", \"status_code\": 404})\n"
   ]
  },
  {
   "cell_type": "code",
   "execution_count": null,
   "id": "3dbb1bf0",
   "metadata": {},
   "outputs": [],
   "source": [
    "def download(filename):\n",
    "    params = {\"filename\": filename}\n",
    "    response = requests.get(\"http://192.168.1.100:8000/download\", params=params)\n",
    "\n",
    "    if response.status_code == 200:\n",
    "        os.makedirs(\"/home/ameya/cloudbox_downloads\", exist_ok=True)\n",
    "        with open(f\"/home/ameya/cloudbox_downloads/{filename}\", \"wb\") as f:\n",
    "            f.write(response.content)\n",
    "    print(f\"{filename} downloaded from cloud and saved to cloudbox_downloads.\")"
   ]
  },
  {
   "cell_type": "code",
   "execution_count": null,
   "id": "2b65ae2f",
   "metadata": {},
   "outputs": [],
   "source": []
  }
 ],
 "metadata": {
  "kernelspec": {
   "display_name": "Python 3",
   "language": "python",
   "name": "python3"
  },
  "language_info": {
   "codemirror_mode": {
    "name": "ipython",
    "version": 3
   },
   "file_extension": ".py",
   "mimetype": "text/x-python",
   "name": "python",
   "nbconvert_exporter": "python",
   "pygments_lexer": "ipython3",
   "version": "3.13.5"
  }
 },
 "nbformat": 4,
 "nbformat_minor": 5
}
