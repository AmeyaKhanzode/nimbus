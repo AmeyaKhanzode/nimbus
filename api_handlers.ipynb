{
 "cells": [
  {
   "cell_type": "code",
   "execution_count": 25,
   "id": "318e58a7",
   "metadata": {},
   "outputs": [
    {
     "name": "stdout",
     "output_type": "stream",
     "text": [
      "Docs table initialized successfully\n"
     ]
    }
   ],
   "source": [
    "from importnb import Notebook\n",
    "import requests\n",
    "import getpass\n",
    "import json\n",
    "\n",
    "with Notebook():\n",
    "    import db_utils\n",
    "\n",
    "db_utils.init_db()"
   ]
  },
  {
   "cell_type": "code",
   "execution_count": 26,
   "id": "fe7f6e5b",
   "metadata": {},
   "outputs": [],
   "source": [
    "def upload(filename):\n",
    "    file_size = None\n",
    "    try:\n",
    "        with open(filename, \"rb\") as file:\n",
    "            file_hash, file_size = db_utils.get_file_hash(file)\n",
    "            print(f\"file hash we made: {file_hash}\")\n",
    "            file_existance = db_utils.is_uploaded(filename, file_hash)\n",
    "            print(f\"file existance: {file_existance}\")\n",
    "            if (file_existance == \"duplicate\"):\n",
    "                print(\"File already exists\")\n",
    "                return\n",
    "            elif (file_existance == \"modified\"):\n",
    "                print(\"File exists but is modified recently, Replacing old file...\")\n",
    "                db_utils.update_entry(filename, file_size, file_hash)\n",
    "            else:\n",
    "                print(\"File doesnt exist. Uploading...\")\n",
    "                db_utils.add_entry(filename, file_size, file_hash)\n",
    "            \n",
    "            files = {\"file\": (filename, file, \"text/plain\")}\n",
    "            response = requests.post(\"http://192.168.1.100:8000/upload\", files=files)\n",
    "\n",
    "        print()\n",
    "        print(json.dumps(response.json(), indent=4))\n",
    "        print(f\"{filename} uploaded to cloud.\")\n",
    "        print()\n",
    "    except FileNotFoundError:\n",
    "        print(\"File not found\")"
   ]
  },
  {
   "cell_type": "code",
   "execution_count": 27,
   "id": "3dbb1bf0",
   "metadata": {},
   "outputs": [],
   "source": [
    "def download(filename):\n",
    "    params = {\"filename\": filename}\n",
    "    response = requests.get(\"http://192.168.1.100:8000/download\", params=params)\n",
    "    download_dir = os.path.expanduser(\"~/cloudbox_downloads\")\n",
    "    os.makedirs(download_dir, exist_ok=True)\n",
    "    if response.status_code == 200:\n",
    "        os.makedirs(f\"/{download_dir}\", exist_ok=True)\n",
    "        with open(f\"/{download_dir}/{filename}\", \"wb\") as f:\n",
    "            f.write(response.content)\n",
    "    print(f\"{filename} downloaded from cloud and saved to cloudbox_downloads.\")"
   ]
  },
  {
   "cell_type": "code",
   "execution_count": 28,
   "id": "493b844b",
   "metadata": {},
   "outputs": [],
   "source": [
    "def auth():\n",
    "    password = input(\"Enter password: \")\n",
    "    username = getpass.getuser()\n",
    "    try:\n",
    "        login_data = {\n",
    "            \"username\" : username,\n",
    "            \"password\" : password,\n",
    "            \"grant_type\" : \"password\"\n",
    "        }\n",
    "        login_response = requests.post(\"http://192.168.1.100:8000/token\", data = login_data)\n",
    "        if login_response.status_code == 200:\n",
    "            token_path = os.path.expanduser(\"~/Library/Application Support/myapp/\")\n",
    "            os.makedirs(token_path, exist_ok=True)\n",
    "            with open(os.path.join(token_path,\"token.json\"), \"w\") as f:\n",
    "                json.dump(login_response.json(), f)\n",
    "            print(\"Authentication Successful\")\n",
    "            return True\n",
    "        else:\n",
    "            print(\"Authentication failed. Error: \", login_response.text)\n",
    "            return False\n",
    "    except Exception as e:\n",
    "        print(\"Something's wrong in auth. Error: \", e)\n",
    "        return False"
   ]
  },
  {
   "cell_type": "code",
   "execution_count": 29,
   "id": "761fd874",
   "metadata": {},
   "outputs": [],
   "source": [
    "def register_user():\n",
    "    print(\"Register yourself first\\n\")\n",
    "    username = getpass.getuser()\n",
    "    password = input(\"Enter password: \")\n",
    "\n",
    "    try:\n",
    "        # call /register here\n",
    "        data = {\n",
    "            \"username\" : username,\n",
    "            \"password\" : password\n",
    "        }\n",
    "        response = requests.post(\"http://192.168.1.100:8000/register\", json=data)\n",
    "        if response.status_code == 200:\n",
    "            print(\"Registered successfully\")\n",
    "        else:\n",
    "            print(\"Registration failed\")\n",
    "            return False\n",
    "\n",
    "        # call /token immediately\n",
    "        login_data = {\n",
    "            \"username\" : username,\n",
    "            \"password\" : password,\n",
    "            \"grant_type\" : \"password\"\n",
    "        }\n",
    "        login_response = requests.post(\"http://192.168.1.100:8000/token\", data = login_data)\n",
    "        if login_response.status_code == 200:\n",
    "            token_path = os.path.expanduser(\"~/Library/Application Support/myapp/\")\n",
    "            os.makedirs(token_path, exist_ok=True)\n",
    "            with open(os.path.join(token_path,\"token.json\"), \"w\") as f:\n",
    "                json.dump(login_response.json(), f)\n",
    "            print(\"Authentication Successful\")\n",
    "            return True\n",
    "        else:\n",
    "            print(\"Authentication failed. Error: \", login_response.text)\n",
    "            return False\n",
    "    except Exception as e:\n",
    "        print(\"Somethin's wrong in register. Error: \", e)\n",
    "        return False\n"
   ]
  },
  {
   "cell_type": "code",
   "execution_count": 30,
   "id": "3894ee18",
   "metadata": {},
   "outputs": [],
   "source": [
    "def check_user_exists(server_url=\"http://192.168.1.100:8000\"):\n",
    "    try:\n",
    "        response = requests.get(f\"{server_url}/user_exists\")\n",
    "        if response.status_code == 200:\n",
    "            data = response.json()\n",
    "            return data.get(\"user_exists\", False)\n",
    "        else:\n",
    "            print(f\"User does not exist\")\n",
    "            return False\n",
    "    except Exception as e:\n",
    "        print(f\"Error checking if user exists: {e}\")\n",
    "        return False\n"
   ]
  }
 ],
 "metadata": {
  "kernelspec": {
   "display_name": "Python 3",
   "language": "python",
   "name": "python3"
  },
  "language_info": {
   "codemirror_mode": {
    "name": "ipython",
    "version": 3
   },
   "file_extension": ".py",
   "mimetype": "text/x-python",
   "name": "python",
   "nbconvert_exporter": "python",
   "pygments_lexer": "ipython3",
   "version": "3.13.5"
  }
 },
 "nbformat": 4,
 "nbformat_minor": 5
}
