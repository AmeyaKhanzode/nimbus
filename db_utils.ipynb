{
 "cells": [
  {
   "cell_type": "code",
   "execution_count": 3,
   "id": "d3cc5281",
   "metadata": {},
   "outputs": [
    {
     "name": "stdout",
     "output_type": "stream",
     "text": [
      "Connection established\n"
     ]
    }
   ],
   "source": [
    "import psycopg2 as db\n",
    "import hashlib\n",
    "\n",
    "def get_connection():\n",
    "    conn = db.connect(\n",
    "        host=\"localhost\",\n",
    "        database=\"cloudbox\",\n",
    "        user=\"postgres\",\n",
    "        password=\"khanzode\"\n",
    "    )\n",
    "    print(\"Connection established\")\n",
    "    return conn\n",
    "\n",
    "conn = get_connection()\n",
    "cur = conn.cursor()"
   ]
  },
  {
   "cell_type": "code",
   "execution_count": null,
   "id": "49965542",
   "metadata": {},
   "outputs": [],
   "source": [
    "def init_db():\n",
    "    cur.execute(\"\"\"\n",
    "    CREATE TABLE IF NOT EXISTS file_metadata (\n",
    "        file_id SERIAL PRIMARY KEY,\n",
    "        file_hash TEXT,\n",
    "        file_name TEXT UNIQUE,\n",
    "        file_size INTEGER,\n",
    "        upload_time TIMESTAMP DEFAULT CURRENT_TIMESTAMP,\n",
    "        is_deleted BOOLEAN DEFAULT FALSE,\n",
    "        restored_from_trash BOOLEAN DEFAULT FALSE\n",
    "    )\n",
    "    \"\"\")\n",
    "    conn.commit() \n",
    "    print(\"Docs table initialized successfully\")"
   ]
  },
  {
   "cell_type": "code",
   "execution_count": null,
   "id": "0edfb379",
   "metadata": {},
   "outputs": [],
   "source": [
    "def get_file_hash(file):\n",
    "    content = file.read()\n",
    "    file_size = len(content)\n",
    "    file_hash = hashlib.sha256(content).hexdigest()\n",
    "    file.seek(0)\n",
    "    return file_hash, file_size\n",
    "\n",
    "def add_entry(filename, file_size, file_hash):\n",
    "    cur.execute(\"\"\"\n",
    "        INSERT INTO file_metadata (file_hash, file_name, file_size) VALUES (%s, %s, %s)\n",
    "    \"\"\", (file_hash, filename, file_size))\n",
    "    \n",
    "    conn.commit()\n",
    "    print(\"File metadata inserted in DB\")\n",
    "\n",
    "def update_entry(filename, file_size, file_hash):\n",
    "    cur.execute(\"\"\"\n",
    "        UPDATE file_metadata SET file_size = %s, file_hash = %s WHERE file_name = %s\n",
    "    \"\"\", (file_size, file_hash, filename))\n",
    "\n",
    "    conn.commit()\n",
    "    print(\"File metadata updated in Db\")"
   ]
  },
  {
   "cell_type": "code",
   "execution_count": null,
   "id": "324a27f1",
   "metadata": {},
   "outputs": [],
   "source": [
    "'''\n",
    "    0 : file exists and not modified\n",
    "    1 : file exists but modified\n",
    "    2 : file doesnt exist\n",
    "'''\n",
    "\n",
    "def is_uploaded(filename, file_hash):\n",
    "    cur.execute(\"\"\"\n",
    "        SELECT * FROM file_metadata WHERE file_name = %s\n",
    "    \"\"\", (filename,))\n",
    "    entry = cur.fetchone()\n",
    "\n",
    "    if entry is not None:\n",
    "        print(f\"file hash in db: {entry[1]}\")\n",
    "    if entry is None:\n",
    "            return \"new\"\n",
    "    elif entry[1] == file_hash:\n",
    "        return \"duplicate\"\n",
    "    else:\n",
    "        return \"modified\""
   ]
  }
 ],
 "metadata": {
  "kernelspec": {
   "display_name": "Python 3",
   "language": "python",
   "name": "python3"
  },
  "language_info": {
   "codemirror_mode": {
    "name": "ipython",
    "version": 3
   },
   "file_extension": ".py",
   "mimetype": "text/x-python",
   "name": "python",
   "nbconvert_exporter": "python",
   "pygments_lexer": "ipython3",
   "version": "3.13.5"
  }
 },
 "nbformat": 4,
 "nbformat_minor": 5
}
