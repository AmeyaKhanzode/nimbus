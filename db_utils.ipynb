{
 "cells": [
  {
   "cell_type": "code",
   "execution_count": 3,
   "id": "d3cc5281",
   "metadata": {},
   "outputs": [
    {
     "name": "stdout",
     "output_type": "stream",
     "text": [
      "Connection established\n"
     ]
    }
   ],
   "source": [
    "import psycopg2 as db\n",
    "import hashlib\n",
    "\n",
    "def get_connection():\n",
    "    conn = db.connect(\n",
    "        host=\"localhost\",\n",
    "        database=\"cloudbox\",\n",
    "        user=\"postgres\",\n",
    "        password=\"khanzode\"\n",
    "    )\n",
    "    print(\"Connection established\")\n",
    "    return conn\n",
    "\n",
    "conn = get_connection()\n",
    "cur = conn.cursor()"
   ]
  },
  {
   "cell_type": "code",
   "execution_count": null,
   "id": "324a27f1",
   "metadata": {},
   "outputs": [],
   "source": [
    "def is_uploaded(file):\n",
    "    content = file.read()\n",
    "    file_hash = hashlib.sha256(content)"
   ]
  }
 ],
 "metadata": {
  "kernelspec": {
   "display_name": "Python 3",
   "language": "python",
   "name": "python3"
  },
  "language_info": {
   "codemirror_mode": {
    "name": "ipython",
    "version": 3
   },
   "file_extension": ".py",
   "mimetype": "text/x-python",
   "name": "python",
   "nbconvert_exporter": "python",
   "pygments_lexer": "ipython3",
   "version": "3.13.5"
  }
 },
 "nbformat": 4,
 "nbformat_minor": 5
}
